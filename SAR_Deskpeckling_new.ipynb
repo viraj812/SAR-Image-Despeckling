{
 "cells": [
  {
   "cell_type": "code",
   "execution_count": 1,
   "metadata": {
    "id": "ZWxySdJNF5Xp"
   },
   "outputs": [],
   "source": [
    "import torch\n",
    "import torch.nn as nn\n",
    "import torch.optim as optim\n",
    "import torchvision.transforms as transforms\n",
    "from torch.utils.data import DataLoader, Dataset\n",
    "from matplotlib import pyplot as plt\n",
    "from torchsummary import summary\n",
    "import glob\n",
    "import cv2\n",
    "import numpy as np\n",
    "from skimage.metrics import peak_signal_noise_ratio as psnr\n",
    "from skimage.metrics import structural_similarity as ssim"
   ]
  },
  {
   "cell_type": "code",
   "execution_count": null,
   "metadata": {
    "colab": {
     "base_uri": "https://localhost:8080/"
    },
    "id": "TC3VJHyKXcY-",
    "outputId": "0de04987-70e5-44d5-d962-72459029cd00"
   },
   "outputs": [
    {
     "name": "stdout",
     "output_type": "stream",
     "text": [
      "----------------------------------------------------------------\n",
      "        Layer (type)               Output Shape         Param #\n",
      "================================================================\n",
      "            Conv2d-1         [-1, 32, 256, 256]             320\n",
      "              ReLU-2         [-1, 32, 256, 256]               0\n",
      "       BatchNorm2d-3         [-1, 32, 256, 256]              64\n",
      "            Conv2d-4         [-1, 64, 256, 256]          18,496\n",
      "              ReLU-5         [-1, 64, 256, 256]               0\n",
      "       BatchNorm2d-6         [-1, 64, 256, 256]             128\n",
      "         MaxPool2d-7         [-1, 64, 128, 128]               0\n",
      "            Conv2d-8        [-1, 128, 128, 128]          73,856\n",
      "              ReLU-9        [-1, 128, 128, 128]               0\n",
      "      BatchNorm2d-10        [-1, 128, 128, 128]             256\n",
      "        MaxPool2d-11          [-1, 128, 64, 64]               0\n",
      "================================================================\n",
      "Total params: 93,120\n",
      "Trainable params: 93,120\n",
      "Non-trainable params: 0\n",
      "----------------------------------------------------------------\n",
      "Input size (MB): 0.25\n",
      "Forward/backward pass size (MB): 204.00\n",
      "Params size (MB): 0.36\n",
      "Estimated Total Size (MB): 204.61\n",
      "----------------------------------------------------------------\n"
     ]
    }
   ],
   "source": [
    "device = torch.device(\"cuda\" if torch.cuda.is_available() else \"cpu\")\n",
    "\n",
    "# CNN Encoder\n",
    "class CNNEncoder(nn.Module):\n",
    "    def __init__(self):\n",
    "        super(CNNEncoder, self).__init__()\n",
    "        self.encoder = nn.Sequential(\n",
    "            nn.Conv2d(1, 32, kernel_size=3, padding=1),\n",
    "            nn.ReLU(),\n",
    "            nn.BatchNorm2d(32),\n",
    "            nn.Conv2d(32, 64, kernel_size=3, padding=1),\n",
    "            nn.ReLU(),\n",
    "            nn.BatchNorm2d(64),\n",
    "            nn.MaxPool2d(2),\n",
    "            nn.Conv2d(64, 128, kernel_size=3, padding=1),\n",
    "            nn.ReLU(),\n",
    "            nn.BatchNorm2d(128), \n",
    "            nn.MaxPool2d(2)\n",
    "        )\n",
    "\n",
    "    def forward(self, x):\n",
    "        return self.encoder(x)\n",
    "\n",
    "# summary(CNNEncoder().to(device), (1, 256, 256))"
   ]
  },
  {
   "cell_type": "code",
   "execution_count": null,
   "metadata": {
    "colab": {
     "base_uri": "https://localhost:8080/"
    },
    "id": "-3alU8TRXwbp",
    "outputId": "bbf455f9-4b3a-4b42-ad57-9b47a343ca82"
   },
   "outputs": [
    {
     "name": "stdout",
     "output_type": "stream",
     "text": [
      "----------------------------------------------------------------\n",
      "        Layer (type)               Output Shape         Param #\n",
      "================================================================\n",
      "            Conv2d-1          [-1, 128, 64, 64]         147,456\n",
      "       BatchNorm2d-2          [-1, 128, 64, 64]             256\n",
      "              ReLU-3          [-1, 128, 64, 64]               0\n",
      "            Conv2d-4          [-1, 128, 64, 64]         147,456\n",
      "       BatchNorm2d-5          [-1, 128, 64, 64]             256\n",
      "              ReLU-6          [-1, 128, 64, 64]               0\n",
      "            Conv2d-7          [-1, 128, 64, 64]         147,456\n",
      "       BatchNorm2d-8          [-1, 128, 64, 64]             256\n",
      "              ReLU-9          [-1, 128, 64, 64]               0\n",
      "================================================================\n",
      "Total params: 443,136\n",
      "Trainable params: 443,136\n",
      "Non-trainable params: 0\n",
      "----------------------------------------------------------------\n",
      "Input size (MB): 2.00\n",
      "Forward/backward pass size (MB): 36.00\n",
      "Params size (MB): 1.69\n",
      "Estimated Total Size (MB): 39.69\n",
      "----------------------------------------------------------------\n"
     ]
    }
   ],
   "source": [
    "# Dilated Residual Network (DRN)\n",
    "class DRN(nn.Module):\n",
    "    def __init__(self, dilation):\n",
    "        super(DRN, self).__init__()\n",
    "        self.conv = nn.Conv2d(128, 128, kernel_size=3, padding=dilation, dilation=dilation, bias=False)\n",
    "        self.relu = nn.ReLU()\n",
    "        self.BN = nn.BatchNorm2d(128)\n",
    "\n",
    "    def forward(self, x):\n",
    "        l1 = self.relu(self.BN(self.conv(x)))\n",
    "        l1 = self.relu(self.BN(self.conv(l1)))\n",
    "        return self.relu(self.BN(self.conv(l1) + x))  # Residual connection\n",
    "\n",
    "# summary(DRN(1).to(device), (128, 64, 64))"
   ]
  },
  {
   "cell_type": "code",
   "execution_count": null,
   "metadata": {
    "colab": {
     "base_uri": "https://localhost:8080/"
    },
    "id": "VARANy7Dh0Rl",
    "outputId": "f53a0a66-e725-43ae-c7b9-be976b74fac1"
   },
   "outputs": [
    {
     "name": "stdout",
     "output_type": "stream",
     "text": [
      "----------------------------------------------------------------\n",
      "        Layer (type)               Output Shape         Param #\n",
      "================================================================\n",
      "            Conv2d-1          [-1, 128, 64, 64]          16,512\n",
      "           Sigmoid-2          [-1, 128, 64, 64]               0\n",
      "================================================================\n",
      "Total params: 16,512\n",
      "Trainable params: 16,512\n",
      "Non-trainable params: 0\n",
      "----------------------------------------------------------------\n",
      "Input size (MB): 2.00\n",
      "Forward/backward pass size (MB): 8.00\n",
      "Params size (MB): 0.06\n",
      "Estimated Total Size (MB): 10.06\n",
      "----------------------------------------------------------------\n"
     ]
    }
   ],
   "source": [
    "# Efficient Channel Attention (ECA)\n",
    "class ECA(nn.Module):\n",
    "    def __init__(self):\n",
    "        super(ECA, self).__init__()\n",
    "        self.conv = nn.Conv2d(128, 128, kernel_size=1)\n",
    "        self.sigmoid = nn.Sigmoid()\n",
    "\n",
    "    def forward(self, x):\n",
    "        return x * self.sigmoid(self.conv(x))\n",
    "\n",
    "# summary(ECA().to(device), (128, 64, 64))"
   ]
  },
  {
   "cell_type": "code",
   "execution_count": null,
   "metadata": {
    "colab": {
     "base_uri": "https://localhost:8080/"
    },
    "id": "vsALc4GM6TTY",
    "outputId": "71636ede-6f4e-4624-fd9a-95d0b80c8d41"
   },
   "outputs": [
    {
     "name": "stdout",
     "output_type": "stream",
     "text": [
      "----------------------------------------------------------------\n",
      "        Layer (type)               Output Shape         Param #\n",
      "================================================================\n",
      "            Conv2d-1         [-1, 32, 256, 256]             320\n",
      "              ReLU-2         [-1, 32, 256, 256]               0\n",
      "       BatchNorm2d-3         [-1, 32, 256, 256]              64\n",
      "            Conv2d-4         [-1, 64, 256, 256]          18,496\n",
      "              ReLU-5         [-1, 64, 256, 256]               0\n",
      "       BatchNorm2d-6         [-1, 64, 256, 256]             128\n",
      "         MaxPool2d-7         [-1, 64, 128, 128]               0\n",
      "            Conv2d-8        [-1, 128, 128, 128]          73,856\n",
      "              ReLU-9        [-1, 128, 128, 128]               0\n",
      "      BatchNorm2d-10        [-1, 128, 128, 128]             256\n",
      "        MaxPool2d-11          [-1, 128, 64, 64]               0\n",
      "       CNNEncoder-12          [-1, 128, 64, 64]               0\n",
      "           Conv2d-13          [-1, 128, 64, 64]         147,456\n",
      "      BatchNorm2d-14          [-1, 128, 64, 64]             256\n",
      "             ReLU-15          [-1, 128, 64, 64]               0\n",
      "           Conv2d-16          [-1, 128, 64, 64]         147,456\n",
      "      BatchNorm2d-17          [-1, 128, 64, 64]             256\n",
      "             ReLU-18          [-1, 128, 64, 64]               0\n",
      "           Conv2d-19          [-1, 128, 64, 64]         147,456\n",
      "      BatchNorm2d-20          [-1, 128, 64, 64]             256\n",
      "             ReLU-21          [-1, 128, 64, 64]               0\n",
      "              DRN-22          [-1, 128, 64, 64]               0\n",
      "           Conv2d-23          [-1, 128, 64, 64]         147,456\n",
      "      BatchNorm2d-24          [-1, 128, 64, 64]             256\n",
      "             ReLU-25          [-1, 128, 64, 64]               0\n",
      "           Conv2d-26          [-1, 128, 64, 64]         147,456\n",
      "      BatchNorm2d-27          [-1, 128, 64, 64]             256\n",
      "             ReLU-28          [-1, 128, 64, 64]               0\n",
      "           Conv2d-29          [-1, 128, 64, 64]         147,456\n",
      "      BatchNorm2d-30          [-1, 128, 64, 64]             256\n",
      "             ReLU-31          [-1, 128, 64, 64]               0\n",
      "              DRN-32          [-1, 128, 64, 64]               0\n",
      "           Conv2d-33          [-1, 128, 64, 64]         147,456\n",
      "      BatchNorm2d-34          [-1, 128, 64, 64]             256\n",
      "             ReLU-35          [-1, 128, 64, 64]               0\n",
      "           Conv2d-36          [-1, 128, 64, 64]         147,456\n",
      "      BatchNorm2d-37          [-1, 128, 64, 64]             256\n",
      "             ReLU-38          [-1, 128, 64, 64]               0\n",
      "           Conv2d-39          [-1, 128, 64, 64]         147,456\n",
      "      BatchNorm2d-40          [-1, 128, 64, 64]             256\n",
      "             ReLU-41          [-1, 128, 64, 64]               0\n",
      "              DRN-42          [-1, 128, 64, 64]               0\n",
      "           Conv2d-43          [-1, 128, 64, 64]          16,512\n",
      "          Sigmoid-44          [-1, 128, 64, 64]               0\n",
      "              ECA-45          [-1, 128, 64, 64]               0\n",
      "           Conv2d-46          [-1, 128, 64, 64]         147,584\n",
      "             ReLU-47          [-1, 128, 64, 64]               0\n",
      "      BatchNorm2d-48          [-1, 128, 64, 64]             256\n",
      "        MaxPool2d-49          [-1, 128, 32, 32]               0\n",
      "           Conv2d-50          [-1, 128, 32, 32]         147,584\n",
      "             ReLU-51          [-1, 128, 32, 32]               0\n",
      "      BatchNorm2d-52          [-1, 128, 32, 32]             256\n",
      "        MaxPool2d-53          [-1, 128, 16, 16]               0\n",
      "           Conv2d-54           [-1, 64, 16, 16]          73,792\n",
      "             ReLU-55           [-1, 64, 16, 16]               0\n",
      "      BatchNorm2d-56           [-1, 64, 16, 16]             128\n",
      "        MaxPool2d-57             [-1, 64, 8, 8]               0\n",
      "  ConvTranspose2d-58             [-1, 32, 8, 8]          18,464\n",
      "             ReLU-59             [-1, 32, 8, 8]               0\n",
      "      BatchNorm2d-60             [-1, 32, 8, 8]              64\n",
      "         Upsample-61           [-1, 32, 16, 16]               0\n",
      "  ConvTranspose2d-62           [-1, 32, 16, 16]           9,248\n",
      "             ReLU-63           [-1, 32, 16, 16]               0\n",
      "      BatchNorm2d-64           [-1, 32, 16, 16]              64\n",
      "         Upsample-65           [-1, 32, 32, 32]               0\n",
      "  ConvTranspose2d-66           [-1, 16, 32, 32]           4,624\n",
      "             ReLU-67           [-1, 16, 32, 32]               0\n",
      "      BatchNorm2d-68           [-1, 16, 32, 32]              32\n",
      "         Upsample-69           [-1, 16, 64, 64]               0\n",
      "  ConvTranspose2d-70           [-1, 16, 64, 64]           2,320\n",
      "             ReLU-71           [-1, 16, 64, 64]               0\n",
      "      BatchNorm2d-72           [-1, 16, 64, 64]              32\n",
      "         Upsample-73         [-1, 16, 128, 128]               0\n",
      "  ConvTranspose2d-74          [-1, 1, 128, 128]             145\n",
      "             ReLU-75          [-1, 1, 128, 128]               0\n",
      "         Upsample-76          [-1, 1, 256, 256]               0\n",
      "             UNet-77          [-1, 1, 256, 256]               0\n",
      "================================================================\n",
      "Total params: 1,843,633\n",
      "Trainable params: 1,843,633\n",
      "Non-trainable params: 0\n",
      "----------------------------------------------------------------\n",
      "Input size (MB): 0.25\n",
      "Forward/backward pass size (MB): 362.83\n",
      "Params size (MB): 7.03\n",
      "Estimated Total Size (MB): 370.11\n",
      "----------------------------------------------------------------\n"
     ]
    }
   ],
   "source": [
    "# Simple UNet\n",
    "class UNet(nn.Module):\n",
    "    def __init__(self):\n",
    "        super(UNet, self).__init__()\n",
    "\n",
    "        self.encoder = nn.Sequential(\n",
    "            nn.Conv2d(128, 128, kernel_size=3, padding=1),\n",
    "            nn.ReLU(),\n",
    "            nn.BatchNorm2d(128),\n",
    "            nn.MaxPool2d(2),\n",
    "            nn.Conv2d(128, 128, kernel_size=3, padding=1),\n",
    "            nn.ReLU(),\n",
    "            nn.BatchNorm2d(128),\n",
    "            nn.MaxPool2d(2),\n",
    "            nn.Conv2d(128, 64, kernel_size=3, padding=1),\n",
    "            nn.ReLU(),\n",
    "            nn.BatchNorm2d(64),\n",
    "            nn.MaxPool2d(2),\n",
    "        )\n",
    "\n",
    "        self.decoder = nn.Sequential(\n",
    "            nn.ConvTranspose2d(64, 32, kernel_size=3, padding=1),\n",
    "            nn.ReLU(),\n",
    "            nn.BatchNorm2d(32),\n",
    "            nn.Upsample(scale_factor=2),\n",
    "            nn.ConvTranspose2d(32, 32, kernel_size=3, padding=1),\n",
    "            nn.ReLU(),\n",
    "            nn.BatchNorm2d(32),\n",
    "            nn.Upsample(scale_factor=2),\n",
    "            nn.ConvTranspose2d(32, 16, kernel_size=3, padding=1),\n",
    "            nn.ReLU(),\n",
    "            nn.BatchNorm2d(16),\n",
    "            nn.Upsample(scale_factor=2),\n",
    "            nn.ConvTranspose2d(16, 16, kernel_size=3, padding=1),\n",
    "            nn.ReLU(),\n",
    "            nn.BatchNorm2d(16),\n",
    "            nn.Upsample(scale_factor=2),\n",
    "            nn.ConvTranspose2d(16, 1, kernel_size=3, padding=1),\n",
    "            nn.ReLU(),\n",
    "            nn.Upsample(scale_factor=2),\n",
    "        )\n",
    "\n",
    "    def forward(self, x):\n",
    "        x = self.encoder(x)\n",
    "        return self.decoder(x)\n",
    "\n",
    "# summary(UNet().to(device), (256, 64, 64))\n",
    "\n",
    "# Complete Model\n",
    "class SARDespecklingNet(nn.Module):\n",
    "    def __init__(self):\n",
    "        super(SARDespecklingNet, self).__init__()\n",
    "        self.encoder = CNNEncoder()\n",
    "        self.drn1 = DRN(dilation=1)\n",
    "        self.drn3 = DRN(dilation=3)\n",
    "        self.drn5 = DRN(dilation=5)\n",
    "        self.eca = ECA()\n",
    "        self.unet = UNet()\n",
    "\n",
    "    def forward(self, x):\n",
    "        x = self.encoder(x)\n",
    "        x1 = self.drn1(x)\n",
    "        x3 = self.drn3(x)\n",
    "        x5 = self.drn5(x)\n",
    "        x = self.eca(x1 + x3 + x5)\n",
    "        return self.unet(x)\n",
    "\n",
    "# summary(SARDespecklingNet().to(device), (1, 256, 256))"
   ]
  },
  {
   "cell_type": "code",
   "execution_count": null,
   "metadata": {
    "id": "7sLNaANZEpDl"
   },
   "outputs": [],
   "source": [
    "# Dataset Placeholder (Assuming we have SAR Images & Clean Images)\n",
    "def prepare_data(n):\n",
    "    infiles = sorted(glob.glob('./s1/*.png'))[:n]\n",
    "    outfiles = sorted(glob.glob('./s2/*.png'))[:n]\n",
    "    in_data = []\n",
    "    out_data = []\n",
    "\n",
    "    for fi in infiles:\n",
    "        img = cv2.imread(fi)\n",
    "        img = cv2.resize(img, (256,256))\n",
    "        img = cv2.cvtColor(img, cv2.COLOR_BGR2GRAY)\n",
    "        in_data.append(img)\n",
    "\n",
    "    for fo in outfiles:\n",
    "        img = cv2.imread(fo)\n",
    "        img = cv2.resize(img, (256,256))\n",
    "        img = cv2.cvtColor(img, cv2.COLOR_BGR2GRAY)\n",
    "        out_data.append(img)\n",
    "    return in_data, out_data\n",
    "    \n",
    "class SARDataset(Dataset):\n",
    "    def __init__(self, sar_images, clean_images, transform=None):\n",
    "        self.sar_images = sar_images\n",
    "        self.clean_images = clean_images\n",
    "        self.transform = transform\n",
    "\n",
    "    def __len__(self):\n",
    "        return len(self.sar_images)\n",
    "\n",
    "    def __getitem__(self, idx):\n",
    "        sar = self.sar_images[idx]\n",
    "        clean = self.clean_images[idx]\n",
    "        # Remove or modify the transform application\n",
    "        # if self.transform:\n",
    "        #     sar = self.transform(sar)\n",
    "        #     clean = self.transform(clean)\n",
    "        return sar, clean\n",
    "\n",
    "\n",
    "\n",
    "# Sample Data Preparation (Dummy Tensors)\n",
    "dummy_sar, clean_sar = prepare_data(4000) # Corresponding clean images\n",
    "dummy_sar = [np.array(img, dtype=np.float32) / 255 for img in dummy_sar]\n",
    "clean_sar = [np.array(img, dtype=np.float32) / 255 for img in clean_sar]\n",
    "dummy_sar = np.array(dummy_sar).reshape(-1, 1, 256, 256)\n",
    "clean_sar = np.array(clean_sar).reshape(-1, 1, 256, 256)\n",
    "\n",
    "# dummy_sar = dummy_sar.to(device)\n",
    "# clean_sar = clean_sar.to(device)\n",
    "\n",
    "# Remove the ToTensor transform or replace with a different transform if needed\n",
    "# transform = transforms.ToTensor()\n",
    "\n",
    "dataset = SARDataset(dummy_sar, clean_sar) #, transform=transform)\n",
    "train_loader = DataLoader(dataset, batch_size=16, shuffle=True)\n",
    "val_loader = DataLoader(dataset, batch_size=16, shuffle=False)"
   ]
  },
  {
   "cell_type": "code",
   "execution_count": 7,
   "metadata": {
    "id": "3GfCQz-EQi_r"
   },
   "outputs": [
    {
     "data": {
      "text/plain": [
       "(50, 1, 256, 256)"
      ]
     },
     "execution_count": 7,
     "metadata": {},
     "output_type": "execute_result"
    }
   ],
   "source": [
    "np.array(dummy_sar).shape"
   ]
  },
  {
   "cell_type": "code",
   "execution_count": 13,
   "metadata": {},
   "outputs": [
    {
     "name": "stderr",
     "output_type": "stream",
     "text": [
      "C:\\Users\\Viraj\\Desktop\\Project\\SAR Despeckling\\sarenv\\Lib\\site-packages\\torch\\optim\\lr_scheduler.py:62: UserWarning: The verbose parameter is deprecated. Please use get_last_lr() to access the learning rate.\n",
      "  warnings.warn(\n"
     ]
    },
    {
     "name": "stdout",
     "output_type": "stream",
     "text": [
      "Epoch 1/1, Training Loss: 2.1725820004940033\n",
      "Validation Loss: 0.18910159915685654\n",
      "Updated Learning Rate: 0.0001\n"
     ]
    }
   ],
   "source": [
    "import torch\n",
    "import torch.nn as nn\n",
    "import torch.optim as optim\n",
    "import numpy as np\n",
    "from skimage.metrics import structural_similarity as ssim\n",
    "\n",
    "def calculate_ssim(img1, img2):\n",
    "    \"\"\"\n",
    "    Compute SSIM loss between two images.\n",
    "    \n",
    "    Args:\n",
    "        img1: PyTorch tensor of shape [B, C, H, W]\n",
    "        img2: PyTorch tensor of shape [B, C, H, W]\n",
    "\n",
    "    Returns:\n",
    "        Mean SSIM loss for batch\n",
    "    \"\"\"\n",
    "    ssim_total = 0.0\n",
    "    img1 = img1.detach().cpu().numpy()  # Convert to numpy\n",
    "    img2 = img2.detach().cpu().numpy()\n",
    "    \n",
    "    for i in range(img1.shape[0]):  # Loop over batch\n",
    "        for c in range(img1.shape[1]):  # Loop over channels\n",
    "            ssim_val = ssim(img1[i, c], img2[i, c], data_range=img2[i, c].max() - img2[i, c].min())\n",
    "            ssim_total += ssim_val\n",
    "\n",
    "    return ssim_total / (img1.shape[0] * img1.shape[1])  # Normalize over batch and channels\n",
    "\n",
    "def train_and_evaluate(model, train_loader, val_loader, epochs=10, lr=0.001, alpha=0.85):\n",
    "    \"\"\"\n",
    "    Trains the model using a combination of MSE and SSIM loss.\n",
    "\n",
    "    Args:\n",
    "        model: The SAR Despeckling model.\n",
    "        train_loader: DataLoader for training data.\n",
    "        val_loader: DataLoader for validation data.\n",
    "        epochs: Number of training epochs (default=10).\n",
    "        lr: Learning rate (default=0.001).\n",
    "        alpha: Weighting factor for combining MSE and SSIM (default=0.85).\n",
    "    \"\"\"\n",
    "    device = torch.device(\"cuda\" if torch.cuda.is_available() else \"cpu\")\n",
    "    model = model.to(device)\n",
    "\n",
    "    mse_loss = nn.MSELoss().to(device)  # MSE Loss\n",
    "    optimizer = optim.Adam(model.parameters(), lr=lr)\n",
    "    scheduler = torch.optim.lr_scheduler.ReduceLROnPlateau(optimizer, mode='min', patience=4, factor=0.5, verbose=True)\n",
    "\n",
    "    for epoch in range(epochs):\n",
    "        model.train()\n",
    "        train_loss = 0\n",
    "\n",
    "        for sar, clean in train_loader:\n",
    "            sar, clean = sar.float().to(device), clean.float().to(device)\n",
    "            optimizer.zero_grad()\n",
    "\n",
    "            # Forward Pass\n",
    "            output = model(sar)\n",
    "\n",
    "            # Compute MSE\n",
    "            mse = mse_loss(output, clean)\n",
    "\n",
    "            # Compute SSIM\n",
    "            ssim_value = calculate_ssim(output, clean)\n",
    "            ssim_loss = 1 - ssim_value  # SSIM returns similarity, so (1 - SSIM) is the loss\n",
    "\n",
    "            # Combined Loss\n",
    "            loss = alpha * mse + (1 - alpha) * ssim_loss\n",
    "\n",
    "            # Backpropagation\n",
    "            loss.backward()\n",
    "            optimizer.step()\n",
    "\n",
    "            train_loss += loss.item()\n",
    "\n",
    "        print(f\"Epoch {epoch+1}/{epochs}, Training Loss: {train_loss/len(train_loader)}\")\n",
    "\n",
    "        # Evaluation\n",
    "        model.eval()\n",
    "        val_loss = 0\n",
    "        with torch.no_grad():\n",
    "            for sar, clean in val_loader:\n",
    "                sar, clean = sar.to(device, non_blocking=True), clean.to(device, non_blocking=True)\n",
    "                output = model(sar)\n",
    "\n",
    "                mse = mse_loss(output, clean)\n",
    "                ssim_value = calculate_ssim(output, clean)\n",
    "                ssim_loss = 1 - ssim_value\n",
    "                loss = alpha * mse + (1 - alpha) * ssim_loss\n",
    "                val_loss += loss.item()\n",
    "\n",
    "        print(f\"Validation Loss: {val_loss/len(val_loader)}\")\n",
    "\n",
    "        scheduler.step(val_loss/len(val_loader))\n",
    "        for param_group in optimizer.param_groups:\n",
    "            current_lr = param_group['lr']\n",
    "        \n",
    "        print(f\"Updated Learning Rate: {current_lr}\")\n",
    "\n",
    "        if epoch % 2 == 0:\n",
    "            torch.save(model, \"./sar_model.pth\")\n",
    "\n",
    "# Train the model\n",
    "model = SARDespecklingNet()\n",
    "# model = torch.load(\"./sar_model.pth\", map_location=torch.device('cpu'))\n",
    "train_and_evaluate(model, train_loader, val_loader, epochs=1, lr=0.0001)\n"
   ]
  },
  {
   "cell_type": "code",
   "execution_count": null,
   "metadata": {
    "colab": {
     "base_uri": "https://localhost:8080/",
     "height": 321
    },
    "id": "pRSzo70DEfXl",
    "outputId": "ae49e876-544b-4ea6-e5af-f679f9a4387a"
   },
   "outputs": [],
   "source": [
    "# # Training and Evaluation\n",
    "# def train_and_evaluate(model, train_loader, val_loader, epochs=10, lr=0.001):\n",
    "#     device = torch.device(\"cuda\" if torch.cuda.is_available() else \"cpu\")\n",
    "#     model = model.to(device)\n",
    "#     criterion = nn.MSELoss().to(device)\n",
    "#     optimizer = optim.Adam(model.parameters(), lr=lr)\n",
    "\n",
    "\n",
    "#     for epoch in range(epochs):\n",
    "#         model.train()\n",
    "#         train_loss = 0\n",
    "\n",
    "#         # print(prof.key_averages().table(sort_by=\"cuda_time_total\", row_limit=10))\n",
    "#         for sar, clean in train_loader:\n",
    "#             sar, clean = sar.float().to(device), clean.float().to(device)\n",
    "#             optimizer.zero_grad()\n",
    "#             output = model(sar)\n",
    "#             loss = criterion(output, clean)\n",
    "#             loss.backward()\n",
    "#             optimizer.step()\n",
    "#             train_loss += loss.item()\n",
    "\n",
    "#         print(f\"Epoch {epoch+1}/{epochs}, Training Loss: {train_loss/len(train_loader)}\")\n",
    "        \n",
    "#         if (epoch%2 == 0):\n",
    "#             torch.save(model, \"./sar_model.pth\")\n",
    "            \n",
    "#         # Evaluation\n",
    "#         model.eval()\n",
    "#         val_loss = 0\n",
    "#         with torch.no_grad():\n",
    "#             for sar, clean in val_loader:\n",
    "#                 sar, clean = sar.to(device, non_blocking=True), clean.to(device, non_blocking=True)\n",
    "#                 output = model(sar)\n",
    "#                 loss = criterion(output, clean)\n",
    "#                 val_loss += loss.item()\n",
    "\n",
    "#         print(f\"Validation Loss: {val_loss/len(val_loader)}\")\n",
    "\n",
    "\n",
    "# # Train the model\n",
    "# # model = SARDespecklingNet()\n",
    "# model = torch.load(\"./sar_model.pth\", weights_only=False, map_location=torch.device('cpu'))\n",
    "# # train_and_evaluate(model, train_loader, val_loader, epochs=10, lr=0.0001)\n"
   ]
  },
  {
   "cell_type": "code",
   "execution_count": 30,
   "metadata": {},
   "outputs": [
    {
     "data": {
      "text/plain": [
       "torch.Size([10, 1, 256, 256])"
      ]
     },
     "execution_count": 30,
     "metadata": {},
     "output_type": "execute_result"
    }
   ],
   "source": [
    "x = torch.from_numpy(dummy_sar[:10]).float().to(device)\n",
    "# x = x.reshape(1, -1, 256, 256)\n",
    "x.shape"
   ]
  },
  {
   "cell_type": "code",
   "execution_count": 31,
   "metadata": {},
   "outputs": [
    {
     "name": "stdout",
     "output_type": "stream",
     "text": [
      "torch.Size([10, 1, 256, 256])\n"
     ]
    }
   ],
   "source": [
    "# model = torch.load(\"./sar_model.pth\", weights_only=False)\n",
    "model.eval()\n",
    "with torch.no_grad():\n",
    "    p = model(x).to(device)\n",
    "\n",
    "print(p.shape)"
   ]
  },
  {
   "cell_type": "code",
   "execution_count": 32,
   "metadata": {},
   "outputs": [
    {
     "data": {
      "text/plain": [
       "<matplotlib.image.AxesImage at 0x1ae984ed880>"
      ]
     },
     "execution_count": 32,
     "metadata": {},
     "output_type": "execute_result"
    },
    {
     "data": {
      "image/png": "[encoded data removed]",
      "text/plain": [
       "<Figure size 640x480 with 1 Axes>"
      ]
     },
     "metadata": {},
     "output_type": "display_data"
    }
   ],
   "source": [
    "plt.imshow(p[5].reshape(256, 256), cmap='gray')"
   ]
  },
  {
   "cell_type": "code",
   "execution_count": 33,
   "metadata": {},
   "outputs": [],
   "source": [
    "def compute_enl(image):\n",
    "    \"\"\"\n",
    "    ENL measures speckle noise reduction in homogeneous regions.\n",
    "    Higher ENL means better despeckling.\n",
    "    \"\"\"\n",
    "    mean_val = np.mean(image)\n",
    "    var_val = np.var(image)\n",
    "    return (mean_val ** 2) / var_val if var_val != 0 else 0\n",
    "\n",
    "# Evaluate despeckling performance\n",
    "def evaluate_despeckling(original, despeckled):\n",
    "    \"\"\"\n",
    "    Compute PSNR, SSIM, and ENL between the original and despeckled SAR images.\n",
    "    \"\"\"\n",
    "    psnr_value = psnr(original, despeckled, data_range=original.max() - original.min())\n",
    "    ssim_value = ssim(original, despeckled, data_range=original.max() - original.min())\n",
    "    \n",
    "    enl_original = compute_enl(original)\n",
    "    enl_despeckled = compute_enl(despeckled)\n",
    "    \n",
    "    return {\n",
    "        \"PSNR\": psnr_value,\n",
    "        \"SSIM\": ssim_value,\n",
    "        \"ENL_Original\": enl_original,\n",
    "        \"ENL_Despeckled\": enl_despeckled\n",
    "    }"
   ]
  },
  {
   "cell_type": "code",
   "execution_count": 61,
   "metadata": {},
   "outputs": [],
   "source": [
    "metrics = evaluate_despeckling(clean_sar[:10].astype(np.float32).reshape(-1, 256, 256), p.numpy().reshape(-1, 256, 256).astype(np.float32))"
   ]
  },
  {
   "cell_type": "code",
   "execution_count": 62,
   "metadata": {},
   "outputs": [
    {
     "data": {
      "text/plain": [
       "{'PSNR': np.float64(14.507441206643879),\n",
       " 'SSIM': np.float64(0.4848568576008796),\n",
       " 'ENL_Original': np.float32(2.4778244),\n",
       " 'ENL_Despeckled': np.float32(6.49)}"
      ]
     },
     "execution_count": 62,
     "metadata": {},
     "output_type": "execute_result"
    }
   ],
   "source": [
    "metrics"
   ]
  },
  {
   "cell_type": "code",
   "execution_count": null,
   "metadata": {},
   "outputs": [],
   "source": []
  }
 ],
 "metadata": {
  "accelerator": "GPU",
  "colab": {
   "gpuType": "T4",
   "provenance": []
  },
  "kernelspec": {
   "display_name": "Python 3 (ipykernel)",
   "language": "python",
   "name": "python3"
  },
  "language_info": {
   "codemirror_mode": {
    "name": "ipython",
    "version": 3
   },
   "file_extension": ".py",
   "mimetype": "text/x-python",
   "name": "python",
   "nbconvert_exporter": "python",
   "pygments_lexer": "ipython3",
   "version": "3.12.1"
  },
  "widgets": {
   "application/vnd.jupyter.widget-state+json": {
    "state": {},
    "version_major": 2,
    "version_minor": 0
   }
  }
 },
 "nbformat": 4,
 "nbformat_minor": 4
}
